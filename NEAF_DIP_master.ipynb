{
 "cells": [
  {
   "cell_type": "markdown",
   "id": "25da93d8",
   "metadata": {},
   "source": [
    "## Student Information\n",
    "Name: 李志軒"
   ]
  },
  {
   "cell_type": "markdown",
   "id": "dcf41385",
   "metadata": {},
   "source": [
    "---"
   ]
  },
  {
   "cell_type": "markdown",
   "id": "3090cafc",
   "metadata": {},
   "source": [
    "\n",
    "## **Instruction**\n",
    "  \n",
    "Welcome to NEAF DIP workshop!  \n",
    "Here we prepare some widely used methods to let you practice, including:\n",
    "1. Histogram Equalization\n",
    "2. Mean blur, Median blur, Gaussian blur\n",
    "3. Binary\n",
    "4. HSV filter\n",
    "5. Morphological: erosion, dilation, open, close\n",
    "6. Find contours\n",
    "\n",
    "Those skills are very powerful and important skills, please enjoy learning and put them into good use :)\n",
    "\n",
    "---"
   ]
  },
  {
   "cell_type": "markdown",
   "id": "5fda3c09",
   "metadata": {},
   "source": [
    "## **1. Histogram Equalization**\n",
    "Histogram is the method to enhance image contrast.  \n",
    "Please show the image grayscale histogram and do the equlization, and show the image result and histogram equalization result.  \n",
    "\n",
    "<img src=\"md_picture/1.png\" width=\"60%\" heught=\"60%\">"
   ]
  },
  {
   "cell_type": "code",
   "execution_count": 1,
   "id": "52e0a8cf",
   "metadata": {},
   "outputs": [],
   "source": [
    "import cv2\n",
    "import numpy as np\n",
    "import matplotlib.pyplot as plt"
   ]
  },
  {
   "cell_type": "code",
   "execution_count": 5,
   "id": "6a4e1764",
   "metadata": {
    "scrolled": true
   },
   "outputs": [
    {
     "data": {
      "text/plain": [
       "True"
      ]
     },
     "execution_count": 5,
     "metadata": {},
     "output_type": "execute_result"
    },
    {
     "data": {
      "image/png": "[encoded data removed]",
      "text/plain": [
       "<Figure size 640x480 with 1 Axes>"
      ]
     },
     "metadata": {},
     "output_type": "display_data"
    }
   ],
   "source": [
    "# read image\n",
    "img_ori = cv2.imread('input/lena.bmp', cv2.IMREAD_GRAYSCALE) # Read image as gray.\n",
    "\n",
    "# image equalization\n",
    "equalize_img = cv2.equalizeHist(img_ori)\n",
    "\n",
    "# show image\n",
    "cv2.imshow(\"image\",img_ori)\n",
    "cv2.imshow(\"equal_image\",equalize_img)\n",
    "cv2.waitKey(0)\n",
    "cv2.destroyAllWindows()\n",
    "\n",
    "# plot image histogram\n",
    "plt.hist(img_ori.ravel(), 256, [0, 255],label= 'original image')\n",
    "plt.hist(equalize_img.ravel(), 256, [0, 255],label= 'equalize image')\n",
    "plt.legend()\n",
    "\n",
    "# save result\n",
    "cv2.imwrite('output/img_ori.bmp', img_ori)\n",
    "cv2.imwrite('output/img_equa.bmp', equalize_img)"
   ]
  },
  {
   "cell_type": "markdown",
   "id": "73f79729",
   "metadata": {},
   "source": [
    "_keywords: plt.hist, cv2.equalizeHist, cv2.calcHist_"
   ]
  },
  {
   "cell_type": "markdown",
   "id": "54cc6285",
   "metadata": {},
   "source": [
    "---"
   ]
  },
  {
   "cell_type": "markdown",
   "id": "9012b931",
   "metadata": {},
   "source": [
    "## **2. Mean blur, Gaussian blur, Median blur**\n",
    "Blur is a method to deal with the noise on the image.\n",
    "Please input the image and use different kernel size to show blur result.\n",
    "\n",
    "<img src=\"md_picture/2.png\" width=\"60%\" heught=\"60%\">\n",
    "<img src=\"md_picture/3.png\" width=\"60%\" heught=\"60%\">"
   ]
  },
  {
   "cell_type": "code",
   "execution_count": 4,
   "id": "d8951cca",
   "metadata": {},
   "outputs": [
    {
     "data": {
      "text/plain": [
       "True"
      ]
     },
     "execution_count": 4,
     "metadata": {},
     "output_type": "execute_result"
    }
   ],
   "source": [
    "img_noise = cv2.imread('input/lena_noise.png', cv2.IMREAD_GRAYSCALE)\n",
    "\n",
    "# Blur the image by three methods.\n",
    "img_mean_blur = cv2.blur(img_noise, (10,10))\n",
    "cv2.imshow(\"img_mean_blur.png\",img_mean_blur)\n",
    "\n",
    "img_gaussian_blur = cv2.GaussianBlur(img_noise, (5,5), 0)\n",
    "cv2.imshow(\"img_gaussian_blur\",img_gaussian_blur)\n",
    "\n",
    "img_median_blur = cv2.medianBlur(img_noise, 15)\n",
    "cv2.imshow(\"img_meian_blur\",img_median_blur)\n",
    "\n",
    "cv2.waitKey(0)\n",
    "cv2.destroyAllWindows()\n",
    "\n",
    "# save result\n",
    "cv2.imwrite('output/img_mean_blur.png', img_mean_blur)\n",
    "cv2.imwrite('output/img_gaussian_blur.png', img_gaussian_blur)\n",
    "cv2.imwrite('output/img_median_blur.png', img_median_blur)"
   ]
  },
  {
   "cell_type": "markdown",
   "id": "92f24f83",
   "metadata": {},
   "source": [
    "### Question:\n",
    "1. What is the difference between three methods? When to use them?\n",
    "2. What is the difference if the kernel size changes?  \n"
   ]
  },
  {
   "cell_type": "markdown",
   "id": "f2feea43",
   "metadata": {},
   "source": [
    "_keywords: cv2.blur, cv2.GaussianBlur, cv2.medianBlur_"
   ]
  },
  {
   "cell_type": "markdown",
   "id": "107d172f",
   "metadata": {},
   "source": [
    "1.A: \n",
    "Mean blur:計算指定區域所有像素的**平均值**，再將平均值取代中心像素。\n",
    "\n",
    "Gaussian blur:使用**高斯分佈**進行模糊化的計算，指定模糊區域單位 ( 必須是大於 1 的奇數 ) 後就能產生不同程度的模糊效果。\n",
    "\n",
    "Median blur:使用像素點周圍灰度值的**中值**，來代替該像素點的灰度值，模糊程度 ( 必須是大於 1 的奇數 )。\n",
    "\n",
    "2.A: \n",
    "指定區域單位設定的範圍越大，則模糊的效果越明顯。\n"
   ]
  },
  {
   "cell_type": "markdown",
   "id": "ca7f00a2",
   "metadata": {},
   "source": [
    "---"
   ]
  },
  {
   "cell_type": "markdown",
   "id": "585c3a2a",
   "metadata": {},
   "source": [
    "## **3. Binary**\n",
    "Binary is a method to transfer greyscale to 0 (black) and 255 (white) only.  \n",
    "Please do the image binary to seperate pad and background.  \n",
    "\n",
    "<img src=\"md_picture/4.png\" width=\"60%\" heught=\"60%\">"
   ]
  },
  {
   "cell_type": "code",
   "execution_count": 3,
   "id": "9dca18b2",
   "metadata": {},
   "outputs": [
    {
     "data": {
      "text/plain": [
       "True"
      ]
     },
     "execution_count": 3,
     "metadata": {},
     "output_type": "execute_result"
    }
   ],
   "source": [
    "binary1 = cv2.imread('input/binary_task1.bmp', cv2.IMREAD_GRAYSCALE)\n",
    "\n",
    "# Do the image binary to seperate pad and background\n",
    "\n",
    "ret , thres1 = cv2.threshold(binary1,127,255,cv2.THRESH_BINARY) \n",
    "cv2.imshow('img_ori',thres1)\n",
    "cv2.waitKey(0)\n",
    "cv2.destroyAllWindows()\n",
    "\n",
    "# save result\n",
    "cv2.imwrite('output/binary_task1.bmp', thres1)"
   ]
  },
  {
   "cell_type": "code",
   "execution_count": 4,
   "id": "c18769fa",
   "metadata": {},
   "outputs": [
    {
     "data": {
      "text/plain": [
       "True"
      ]
     },
     "execution_count": 4,
     "metadata": {},
     "output_type": "execute_result"
    }
   ],
   "source": [
    "binary2 = cv2.imread('input/binary_task2.bmp', cv2.IMREAD_GRAYSCALE)\n",
    "\n",
    "# Do the image binary to seperate pad and background\n",
    "\n",
    "ret , thres2 = cv2.threshold(binary2,127,255,cv2.THRESH_BINARY) \n",
    "cv2.imshow('img_ori',thres2)\n",
    "cv2.waitKey(0)\n",
    "cv2.destroyAllWindows()\n",
    "\n",
    "# save result\n",
    "cv2.imwrite('output/binary_task2.bmp', thres2)"
   ]
  },
  {
   "cell_type": "code",
   "execution_count": 5,
   "id": "f1f54701",
   "metadata": {},
   "outputs": [
    {
     "data": {
      "text/plain": [
       "True"
      ]
     },
     "execution_count": 5,
     "metadata": {},
     "output_type": "execute_result"
    }
   ],
   "source": [
    "binary3 = cv2.imread('input/binary_task3.bmp', cv2.IMREAD_GRAYSCALE)\n",
    "\n",
    "# Do the image binary to seperate pad and background\n",
    "\n",
    "ret , thres3 = cv2.threshold(binary3,127,255,cv2.THRESH_BINARY) \n",
    "cv2.imshow('img_ori',thres3)\n",
    "cv2.waitKey(0)\n",
    "cv2.destroyAllWindows()\n",
    "\n",
    "# save result\n",
    "cv2.imwrite('output/binary_task3.bmp', thres3)"
   ]
  },
  {
   "cell_type": "markdown",
   "id": "18c89c6a",
   "metadata": {},
   "source": [
    "### Questions:\n",
    "1. What are the limits of this methods?\n",
    "2. What if the light source is not uniform? Is this method still work? How to improve it?  "
   ]
  },
  {
   "cell_type": "markdown",
   "id": "771f36bc",
   "metadata": {},
   "source": [
    "_keywords: cv2.threshold_"
   ]
  },
  {
   "cell_type": "markdown",
   "id": "4b353d9d",
   "metadata": {},
   "source": [
    "1.A: \n",
    "使用 threshold() 方法轉換灰階的影像時，必須手動設定灰度和閾值，比較適合內容較單純的影像，如果遇到內容比較複雜的影像，每個像素間可能都有關連性。\n",
    "\n",
    "2.A: \n",
    "仍然可以執行，但是效果不好，這時就可以使用 adaptiveThreshold() 方法，進行自適應二值化的轉換，自適應二值化可以根據指定大小的區域平均值，或是整體影像的高斯平均值，判斷所需的灰度和閾值，進而產生更好的轉換效果。"
   ]
  },
  {
   "cell_type": "markdown",
   "id": "68884c88",
   "metadata": {},
   "source": [
    "---"
   ]
  },
  {
   "cell_type": "markdown",
   "id": "2047595d",
   "metadata": {},
   "source": [
    "## **4. HSV filter**\n",
    "This method could extract the the interested part by color.  \n",
    "Please crop the yellow or blue boxes and its surrounding in the image.\n",
    "\n",
    "<img src=\"md_picture/5.png\" width=\"30%\" heught=\"30%\">\n",
    "\n",
    "### Steps:\n",
    "1. Transfer color to HSV.\n",
    "2. Setting the color range and filter the image. (output the color image in the setting range)\n",
    "3. Binary the image, find the left-top and right-bottom coordinate.\n",
    "4. Crop the image by the coordinate.  \n",
    "\n",
    "- Noted: Blur, histogram equalization methods could be used if needed.  "
   ]
  },
  {
   "cell_type": "code",
   "execution_count": null,
   "id": "0dc86b24",
   "metadata": {
    "scrolled": false
   },
   "outputs": [],
   "source": [
    "# Yellow box.\n",
    "yellow = cv2.imread('input/yellow.jpg')\n",
    "\n",
    "# Step 1. Transfer color to HSV\n",
    "\n",
    "# Step 2. Setting the color range and filter the image.\n",
    "\n",
    "# Step 3. Binary the image, find the left-top and right-bottom coordinate (x, y, w, h) or (x1, x2, y1, y2).\n",
    "\n",
    "# Step 4. Crop the image by the coordinate.\n",
    "crop_edge = 20  # surrounding 20 pixels \n",
    "cropHSV_yellow = yellow[y-crop_edge: y+h+crop_edge, x-crop_edge: x+w+crop_edge]   # take (x, y, w, h) as example.\n",
    "\n",
    "# save result\n",
    "cv2.imwrite('output/cropHSV_yellow.jpg', cropHSV_yellow)"
   ]
  },
  {
   "cell_type": "code",
   "execution_count": null,
   "id": "e5f1a6e1",
   "metadata": {
    "scrolled": false
   },
   "outputs": [],
   "source": [
    "# Blue box.\n",
    "blue = cv2.imread('input/blue.jpg')\n",
    "\n",
    "# Step 1. Transfer color to HSV\n",
    "\n",
    "# Step 2. Setting the color range and filter the image.\n",
    "\n",
    "# Step 3. Binary the image, find the left-top and right-bottom coordinate (x, y, w, h) or (x1, x2, y1, y2).\n",
    "\n",
    "# Step 4. Crop the image by the coordinate.\n",
    "crop_edge = 20  # surrounding 20 pixels \n",
    "cropHSV_blue = blue[y-crop_edge: y+h+crop_edge, x-crop_edge: x+w+crop_edge]   # take (x, y, w, h) as example.\n",
    "\n",
    "# save result\n",
    "cv2.imwrite('output/cropHSV_blue.jpg', cropHSV_blue)"
   ]
  },
  {
   "cell_type": "markdown",
   "id": "56a579b9",
   "metadata": {},
   "source": [
    "---"
   ]
  },
  {
   "cell_type": "markdown",
   "id": "69016291",
   "metadata": {},
   "source": [
    "## **5. Morphological: erosion, dilation, open, close**\n",
    "\n",
    "Those methods help to denoise, enhance the features.   \n",
    "Please use these methods to fill up the lines of the image created in the previous section.\n",
    "\n",
    "<img src=\"md_picture/6.png\" width=\"60%\" heught=\"60%\">"
   ]
  },
  {
   "cell_type": "code",
   "execution_count": null,
   "id": "b0da48f2",
   "metadata": {},
   "outputs": [],
   "source": [
    "hsv_yellow = cv2.imread('output/cropHSV_yellow.jpg')\n",
    "\n",
    "# Try to use erosion, dilation, open, close to fill up the lines.\n",
    "\n",
    "\"\"\"\n",
    "Your code here\n",
    "\"\"\"\n",
    "\n",
    "# save result\n",
    "cv2.imwrite('output/morpho_yellow.jpg', result)"
   ]
  },
  {
   "cell_type": "code",
   "execution_count": null,
   "id": "4c3ff0cb",
   "metadata": {
    "scrolled": false
   },
   "outputs": [],
   "source": [
    "hsv_blue = cv2.imread('output/cropHSV_blue.jpg')\n",
    "\n",
    "# Try to use erosion, dilation, open, close to fill up the lines.\n",
    "\n",
    "\"\"\"\n",
    "Your code here\n",
    "\"\"\"\n",
    "\n",
    "# save result\n",
    "cv2.imwrite('output/morpho_blue.jpg', result)"
   ]
  },
  {
   "cell_type": "markdown",
   "id": "5c352e50",
   "metadata": {},
   "source": [
    "_keywords: cv2.erode, cv2.dilate, cv2.morpholopyEx_"
   ]
  },
  {
   "cell_type": "markdown",
   "id": "8ebc07d5",
   "metadata": {},
   "source": [
    "---"
   ]
  },
  {
   "cell_type": "markdown",
   "id": "4b69cec6",
   "metadata": {},
   "source": [
    "## **6. Find countours**\n",
    "\n",
    "Use package to find the contours in the image.\n",
    "\n",
    "Practice:\n",
    "1. Find the pad and probemark contours in the pad series images.\n",
    "2. Calculate the countours area.\n",
    "\n",
    "<img src=\"md_picture/7.png\" width=\"60%\" heught=\"60%\">"
   ]
  },
  {
   "cell_type": "code",
   "execution_count": null,
   "id": "e35f1640",
   "metadata": {},
   "outputs": [],
   "source": [
    "pad_task1 = cv2.imread('input/binary_task1.bmp', cv2.IMREAD_GRAYSCALE)\n",
    "\n",
    "# Find the pad and probemark contours and draw.\n",
    "\n",
    "\"\"\"\n",
    "Your code here\n",
    "\"\"\"\n",
    "\n",
    "# save and print result\n",
    "cv2.imwrite('output/pad_task1_cont.bmp', result)\n",
    "print('The pad area is ', pad_area)\n",
    "print('The probe mark area is ', probemark_area)"
   ]
  },
  {
   "cell_type": "markdown",
   "id": "d4cd3ca2",
   "metadata": {},
   "source": [
    "_keywords: cv2.findContours, cv2.contourArea_"
   ]
  },
  {
   "cell_type": "markdown",
   "id": "fa7d9669",
   "metadata": {},
   "source": [
    "---"
   ]
  },
  {
   "cell_type": "markdown",
   "id": "607b55c9",
   "metadata": {},
   "source": [
    "### **Extra Challenge**\n",
    "\n",
    "Try to find the contours of circular workspace in the image.  \n",
    "You can use other DIP methods from other packages.\n",
    "\n",
    "<img src=\"md_picture/8.png\" width=\"50%\" height=\"50%\">\n",
    "\n",
    "- Hint : The light source isn't uniform, try to eliminate the the influence of the light source."
   ]
  },
  {
   "cell_type": "code",
   "execution_count": null,
   "id": "49332ca6",
   "metadata": {},
   "outputs": [],
   "source": [
    "img = cv2.imread('input/extra_1.bmp')\n",
    "\n",
    "# Find the contour of circular workspace in the image.\n",
    "\n",
    "\"\"\"\n",
    "Your code here\n",
    "\"\"\"\n",
    "\n",
    "# save and print result\n",
    "cv2.imwrite('output/pad_task1_cont.bmp', result)"
   ]
  },
  {
   "cell_type": "code",
   "execution_count": null,
   "id": "58bab2e1",
   "metadata": {},
   "outputs": [],
   "source": [
    "img = cv2.imread('input/extra_2.bmp')\n",
    "\n",
    "# Find the contour of circular workspace in the image.\n",
    "\n",
    "\"\"\"\n",
    "Your code here\n",
    "\"\"\"\n",
    "\n",
    "# save and print result\n",
    "cv2.imwrite('output/pad_task1_cont.bmp', result)"
   ]
  },
  {
   "cell_type": "code",
   "execution_count": null,
   "id": "3361cac9",
   "metadata": {},
   "outputs": [],
   "source": [
    "img = cv2.imread('input/extra_3.bmp')\n",
    "\n",
    "# Find the contour of circular workspace in the image.\n",
    "\n",
    "\"\"\"\n",
    "Your code here\n",
    "\"\"\"\n",
    "\n",
    "# save and print result\n",
    "cv2.imwrite('output/pad_task1_cont.bmp', result)"
   ]
  }
 ],
 "metadata": {
  "kernelspec": {
   "display_name": "Python 3.9.13 64-bit",
   "language": "python",
   "name": "python3"
  },
  "language_info": {
   "codemirror_mode": {
    "name": "ipython",
    "version": 3
   },
   "file_extension": ".py",
   "mimetype": "text/x-python",
   "name": "python",
   "nbconvert_exporter": "python",
   "pygments_lexer": "ipython3",
   "version": "3.8.8"
  },
  "vscode": {
   "interpreter": {
    "hash": "82ed002fa2d4956f5c6aec99bcefe0f73a9f79882f3c9e2319b14958a5896ac5"
   }
  }
 },
 "nbformat": 4,
 "nbformat_minor": 5
}
